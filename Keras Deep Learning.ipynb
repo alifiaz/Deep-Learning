{
 "cells": [
  {
   "cell_type": "markdown",
   "metadata": {},
   "source": [
    "# KERAS DEEP LEARNING"
   ]
  },
  {
   "cell_type": "markdown",
   "metadata": {},
   "source": [
    "Set random seeds and import modules"
   ]
  },
  {
   "cell_type": "code",
   "execution_count": 25,
   "metadata": {},
   "outputs": [],
   "source": [
    "from numpy.random import seed\n",
    "seed(1337)\n",
    "from tensorflow import set_random_seed\n",
    "set_random_seed(1337)\n",
    "\n",
    "import keras\n",
    "from keras.models import Sequential\n",
    "from keras.layers import Activation, Dense\n",
    "from keras.optimizers import SGD"
   ]
  },
  {
   "cell_type": "markdown",
   "metadata": {},
   "source": [
    "#### Load dataset, split into train and test data"
   ]
  },
  {
   "cell_type": "code",
   "execution_count": 29,
   "metadata": {},
   "outputs": [
    {
     "data": {
      "text/plain": [
       "((404, 13), (102, 13), (404,), (102,))"
      ]
     },
     "execution_count": 29,
     "metadata": {},
     "output_type": "execute_result"
    }
   ],
   "source": [
    "from keras.datasets import boston_housing\n",
    "(x_train, y_train), (x_test, y_test) = boston_housing.load_data()\n",
    "\n",
    "x_train.shape, x_test.shape,y_train.shape, y_test.shape"
   ]
  },
  {
   "cell_type": "markdown",
   "metadata": {},
   "source": [
    "#### Start building the model graph, add input and output layers"
   ]
  },
  {
   "cell_type": "code",
   "execution_count": 35,
   "metadata": {},
   "outputs": [
    {
     "name": "stdout",
     "output_type": "stream",
     "text": [
      "_________________________________________________________________\n",
      "Layer (type)                 Output Shape              Param #   \n",
      "=================================================================\n",
      "dense_19 (Dense)             (None, 13)                182       \n",
      "_________________________________________________________________\n",
      "dense_20 (Dense)             (None, 1)                 14        \n",
      "=================================================================\n",
      "Total params: 196\n",
      "Trainable params: 196\n",
      "Non-trainable params: 0\n",
      "_________________________________________________________________\n"
     ]
    }
   ],
   "source": [
    "basic_model = Sequential()\n",
    "\n",
    "basic_model.add(Dense(units=13, input_dim = 13, kernel_initializer = 'normal'))\n",
    "\n",
    "basic_model.add(Dense(units = 1, kernel_initializer = 'normal', activation='linear'))\n",
    "\n",
    "basic_model.compile(optimizer=SGD(lr = 0.000001), loss='mean_absolute_error', \n",
    "                    metrics=['accuracy', \"mse\"])\n",
    "\n",
    "basic_model.summary()"
   ]
  },
  {
   "cell_type": "markdown",
   "metadata": {},
   "source": [
    "#### Build a better model"
   ]
  },
  {
   "cell_type": "code",
   "execution_count": 36,
   "metadata": {},
   "outputs": [
    {
     "name": "stdout",
     "output_type": "stream",
     "text": [
      "_________________________________________________________________\n",
      "Layer (type)                 Output Shape              Param #   \n",
      "=================================================================\n",
      "dense_21 (Dense)             (None, 32)                448       \n",
      "_________________________________________________________________\n",
      "dense_22 (Dense)             (None, 16)                528       \n",
      "_________________________________________________________________\n",
      "dense_23 (Dense)             (None, 1)                 17        \n",
      "=================================================================\n",
      "Total params: 993\n",
      "Trainable params: 993\n",
      "Non-trainable params: 0\n",
      "_________________________________________________________________\n"
     ]
    }
   ],
   "source": [
    "advanced_model = Sequential()\n",
    "\n",
    "advanced_model.add(Dense(units=32, input_dim = 13, kernel_initializer = 'truncated_normal'))\n",
    "\n",
    "advanced_model.add(Dense(units = 16, kernel_initializer = 'truncated_normal'))\n",
    "\n",
    "advanced_model.add(Dense(units = 1, kernel_initializer = 'truncated_normal'))\n",
    "\n",
    "advanced_model.compile(optimizer=\"adam\", loss='mean_absolute_error', metrics=['accuracy'])\n",
    "\n",
    "advanced_model.summary()"
   ]
  },
  {
   "cell_type": "markdown",
   "metadata": {},
   "source": [
    "#### Check training data"
   ]
  },
  {
   "cell_type": "code",
   "execution_count": 47,
   "metadata": {},
   "outputs": [
    {
     "name": "stdout",
     "output_type": "stream",
     "text": [
      "Features of the first house in the dataset:\n",
      " [  1.23247   0.        8.14      0.        0.538     6.142    91.7\n",
      "   3.9769    4.      307.       21.      396.9      18.72   ]\n",
      "\n",
      "First house in the dataset's price in thousands: 15.2\n"
     ]
    }
   ],
   "source": [
    "print(\"Features of the first house in the dataset:\\n\", x_train[0])\n",
    "print(\"\\nFirst house in the dataset's price in thousands:\",y_train[0])"
   ]
  },
  {
   "cell_type": "markdown",
   "metadata": {},
   "source": [
    "#### Train the model"
   ]
  },
  {
   "cell_type": "code",
   "execution_count": 53,
   "metadata": {},
   "outputs": [
    {
     "data": {
      "text/plain": [
       "<keras.callbacks.History at 0x1a3b8487710>"
      ]
     },
     "execution_count": 53,
     "metadata": {},
     "output_type": "execute_result"
    }
   ],
   "source": [
    "basic_model.fit(x_train, y_train, epochs=100, batch_size=64, verbose=0, validation_split=0.1)"
   ]
  },
  {
   "cell_type": "code",
   "execution_count": 54,
   "metadata": {},
   "outputs": [
    {
     "data": {
      "text/plain": [
       "<keras.callbacks.History at 0x1a3b6733710>"
      ]
     },
     "execution_count": 54,
     "metadata": {},
     "output_type": "execute_result"
    }
   ],
   "source": [
    "advanced_model.fit(x_train, y_train, epochs=100, batch_size=64, verbose=0, validation_split=0.1)"
   ]
  },
  {
   "cell_type": "markdown",
   "metadata": {},
   "source": [
    "#### Model Evaluation Function"
   ]
  },
  {
   "cell_type": "code",
   "execution_count": 55,
   "metadata": {},
   "outputs": [],
   "source": [
    "def test_model(model, metric=\"accuracy\"):\n",
    "    evaluation = model.evaluate(x_test, y_test, verbose=0)\n",
    "    \n",
    "    print(\"-------------------------------------\")\n",
    "    print(\"Loss over the test dataset: %.2f\" % (evaluation[0]))\n",
    "    print(\"-------------------------------------\")\n",
    "    if metric == \"accuracy\":\n",
    "        print(\"Accuarcy: %.2f\" % (evaluation[1]))\n",
    "    elif metric == \"mae\":\n",
    "        print(\"Mean absolute error: %.2f\" % (evaluation[1]))"
   ]
  },
  {
   "cell_type": "markdown",
   "metadata": {},
   "source": [
    "#### Test the Basic Model"
   ]
  },
  {
   "cell_type": "code",
   "execution_count": 56,
   "metadata": {},
   "outputs": [
    {
     "name": "stdout",
     "output_type": "stream",
     "text": [
      "-------------------------------------\n",
      "Loss over the test dataset: 11.96\n",
      "-------------------------------------\n",
      "Accuarcy: 0.00\n"
     ]
    }
   ],
   "source": [
    "test_model(basic_model)"
   ]
  },
  {
   "cell_type": "code",
   "execution_count": 57,
   "metadata": {},
   "outputs": [
    {
     "name": "stdout",
     "output_type": "stream",
     "text": [
      "-------------------------------------\n",
      "Loss over the test dataset: 3.76\n",
      "-------------------------------------\n",
      "Accuarcy: 0.01\n"
     ]
    }
   ],
   "source": [
    "test_model(advanced_model)"
   ]
  },
  {
   "cell_type": "markdown",
   "metadata": {},
   "source": [
    "#### Define Function to check Actual House Predictions"
   ]
  },
  {
   "cell_type": "code",
   "execution_count": 58,
   "metadata": {},
   "outputs": [],
   "source": [
    "def check_predictions(model):\n",
    "    train_houses=[x_train[0:1], x_train[10:11], x_train[200:201]]\n",
    "    train_actual_prices = [y_train[0:1], y_train[10], y_train[200]]\n",
    "    \n",
    "    print(\"\\n\")\n",
    "    print(\"Training set points:\")\n",
    "    \n",
    "    for house, price in zip(train_houses, train_actual_prices):\n",
    "        prediction = model.predict(house)\n",
    "        print(f\"Predicted price: {prediction}, Actual price: {price}\")\n",
    "    \n",
    "    test_houses=[x_test[1:2], x_test[50:51], x_test[100:101]]\n",
    "    test_actual_prices = [y_test[1], y_test[50], y_test[100]]\n",
    "    \n",
    "    print(\"\\n\")\n",
    "    print(\"Testing set points:\")\n",
    "    \n",
    "    for house, price in zip(test_houses, test_actual_prices):\n",
    "        prediction = model.predict(house)\n",
    "        print(f\"Predicted price: {prediction}, Actual price: {price}\")"
   ]
  },
  {
   "cell_type": "code",
   "execution_count": 62,
   "metadata": {},
   "outputs": [
    {
     "name": "stdout",
     "output_type": "stream",
     "text": [
      "Sliced:  [[  1.23247   0.        8.14      0.        0.538     6.142    91.7\n",
      "    3.9769    4.      307.       21.      396.9      18.72   ]]\n",
      "\n",
      "Not sliced:  [  1.23247   0.        8.14      0.        0.538     6.142    91.7\n",
      "   3.9769    4.      307.       21.      396.9      18.72   ]\n"
     ]
    }
   ],
   "source": [
    "print(\"Sliced: \", x_train[0:1])\n",
    "print(\"\\nNot sliced: \", x_train[0])"
   ]
  },
  {
   "cell_type": "markdown",
   "metadata": {},
   "source": [
    "#### Check concrete predictions for our advanced model"
   ]
  },
  {
   "cell_type": "code",
   "execution_count": 63,
   "metadata": {},
   "outputs": [
    {
     "name": "stdout",
     "output_type": "stream",
     "text": [
      "\n",
      "\n",
      "Training set points:\n",
      "Predicted price: [[17.8086]], Actual price: [15.2]\n",
      "Predicted price: [[17.133348]], Actual price: 12.1\n",
      "Predicted price: [[26.92762]], Actual price: 23.9\n",
      "\n",
      "\n",
      "Testing set points:\n",
      "Predicted price: [[18.227278]], Actual price: 18.8\n",
      "Predicted price: [[32.509747]], Actual price: 35.4\n",
      "Predicted price: [[31.834547]], Actual price: 26.7\n"
     ]
    }
   ],
   "source": [
    "check_predictions(advanced_model)"
   ]
  },
  {
   "cell_type": "markdown",
   "metadata": {},
   "source": [
    "#### Imrove Model"
   ]
  },
  {
   "cell_type": "code",
   "execution_count": 65,
   "metadata": {},
   "outputs": [
    {
     "name": "stdout",
     "output_type": "stream",
     "text": [
      "-------------------------------------\n",
      "Loss over the test dataset: 30.16\n",
      "-------------------------------------\n",
      "Accuarcy: 3.82\n",
      "\n",
      "\n",
      "Training set points:\n",
      "Predicted price: [[17.580786]], Actual price: [15.2]\n",
      "Predicted price: [[14.068082]], Actual price: 12.1\n",
      "Predicted price: [[25.193892]], Actual price: 23.9\n",
      "\n",
      "\n",
      "Testing set points:\n",
      "Predicted price: [[18.64862]], Actual price: 18.8\n",
      "Predicted price: [[35.578312]], Actual price: 35.4\n",
      "Predicted price: [[27.62483]], Actual price: 26.7\n"
     ]
    }
   ],
   "source": [
    "improved_model = Sequential()\n",
    "\n",
    "improved_model.add(Dense(units=64, input_dim = 13, kernel_initializer = 'truncated_normal', activation=\"relu\"))\n",
    "\n",
    "improved_model.add(Dense(units = 32, kernel_initializer = 'truncated_normal', activation=\"relu\"))\n",
    "\n",
    "improved_model.add(Dense(units = 1, kernel_initializer = 'truncated_normal'))\n",
    "\n",
    "improved_model.compile(optimizer=\"adam\", loss='mean_squared_error', metrics=['mae'])\n",
    "improved_model.fit(x_train, y_train, epochs=150, batch_size=32, verbose=0, validation_split=0.2)\n",
    "\n",
    "test_model(improved_model)\n",
    "\n",
    "check_predictions(improved_model)"
   ]
  },
  {
   "cell_type": "code",
   "execution_count": 66,
   "metadata": {},
   "outputs": [
    {
     "name": "stdout",
     "output_type": "stream",
     "text": [
      "-------------------------------------\n",
      "Loss over the test dataset: 30.16\n",
      "-------------------------------------\n",
      "Mean absolute error: 3.82\n"
     ]
    }
   ],
   "source": [
    "test_model(improved_model, metric = \"mae\")"
   ]
  },
  {
   "cell_type": "markdown",
   "metadata": {},
   "source": [
    "## 2. Convolution Neural Network"
   ]
  },
  {
   "cell_type": "code",
   "execution_count": 1,
   "metadata": {},
   "outputs": [
    {
     "name": "stderr",
     "output_type": "stream",
     "text": [
      "Using TensorFlow backend.\n"
     ]
    }
   ],
   "source": [
    "import numpy as np\n",
    "from keras.layers import Conv2D, MaxPooling2D, AveragePooling2D\n",
    "from keras.layers import Dropout, Flatten, Dense\n",
    "from keras.models import Sequential\n",
    "from keras.layers.advanced_activations import LeakyReLU"
   ]
  },
  {
   "cell_type": "markdown",
   "metadata": {},
   "source": [
    "#### Add Convolutional and Max Pooling layers"
   ]
  },
  {
   "cell_type": "code",
   "execution_count": 2,
   "metadata": {},
   "outputs": [],
   "source": [
    "model = Sequential()\n",
    "\n",
    "model.add(Conv2D(filters=16, kernel_size=(2, 2), padding=\"same\", activation=\"relu\", input_shape=(224, 224, 3)))\n",
    "model.add(MaxPooling2D(pool_size=(2, 2), strides=(1, 1), padding='same'))\n",
    "model.add(AveragePooling2D(pool_size=(2, 2), strides=None, padding='valid'))"
   ]
  },
  {
   "cell_type": "markdown",
   "metadata": {},
   "source": [
    "#### Import the dataset, load train and test data¶"
   ]
  },
  {
   "cell_type": "code",
   "execution_count": 3,
   "metadata": {},
   "outputs": [],
   "source": [
    "from keras.datasets import cifar10\n",
    "(train_features, train_labels), (test_features, test_labels) = cifar10.load_data()"
   ]
  },
  {
   "cell_type": "markdown",
   "metadata": {},
   "source": [
    "#### Look at the Shape of our Data"
   ]
  },
  {
   "cell_type": "code",
   "execution_count": 4,
   "metadata": {},
   "outputs": [
    {
     "name": "stdout",
     "output_type": "stream",
     "text": [
      "(50000, 32, 32, 3) (50000, 1)\n",
      "(10000, 32, 32, 3) (10000, 1)\n"
     ]
    }
   ],
   "source": [
    "print(train_features.shape, train_labels.shape)\n",
    "print(test_features.shape, test_labels.shape)"
   ]
  },
  {
   "cell_type": "markdown",
   "metadata": {},
   "source": [
    "#### Show some Images from the CIFAR 10 Dataset"
   ]
  },
  {
   "cell_type": "code",
   "execution_count": 5,
   "metadata": {},
   "outputs": [
    {
     "name": "stderr",
     "output_type": "stream",
     "text": [
      "C:\\Users\\Ali\\Anaconda3\\lib\\site-packages\\ipykernel_launcher.py:8: DeprecationWarning: `toimage` is deprecated!\n",
      "`toimage` is deprecated in SciPy 1.0.0, and will be removed in 1.2.0.\n",
      "Use Pillow's ``Image.fromarray`` directly instead.\n",
      "  \n"
     ]
    },
    {
     "data": {
      "image/png": "[encoded data removed]",
      "text/plain": [
       "<Figure size 432x288 with 9 Axes>"
      ]
     },
     "metadata": {
      "needs_background": "light"
     },
     "output_type": "display_data"
    }
   ],
   "source": [
    "from matplotlib import pyplot\n",
    "%matplotlib inline\n",
    "from scipy.misc import toimage\n",
    "\n",
    "# create a grid of 3x3 images\n",
    "for i in range(0, 9):\n",
    "    pyplot.subplot(330 + 1 + i)\n",
    "    pyplot.imshow(toimage(train_features[i]))\n",
    "pyplot.show()"
   ]
  },
  {
   "cell_type": "markdown",
   "metadata": {},
   "source": [
    "#### Rescale Images"
   ]
  },
  {
   "cell_type": "code",
   "execution_count": 6,
   "metadata": {},
   "outputs": [],
   "source": [
    "train_features = train_features.astype('float32')/255\n",
    "test_features = test_features.astype('float32')/255"
   ]
  },
  {
   "cell_type": "code",
   "execution_count": 7,
   "metadata": {},
   "outputs": [
    {
     "data": {
      "text/plain": [
       "(10000, 32, 32, 3)"
      ]
     },
     "execution_count": 7,
     "metadata": {},
     "output_type": "execute_result"
    }
   ],
   "source": [
    "test_features.shape"
   ]
  },
  {
   "cell_type": "markdown",
   "metadata": {},
   "source": [
    "#### Labels before One-hot Encoding"
   ]
  },
  {
   "cell_type": "code",
   "execution_count": 8,
   "metadata": {},
   "outputs": [
    {
     "data": {
      "text/plain": [
       "(array([3]), array([8]))"
      ]
     },
     "execution_count": 8,
     "metadata": {},
     "output_type": "execute_result"
    }
   ],
   "source": [
    "test_labels[0], test_labels[1]"
   ]
  },
  {
   "cell_type": "markdown",
   "metadata": {},
   "source": [
    "#### One-hot Encoding"
   ]
  },
  {
   "cell_type": "code",
   "execution_count": 9,
   "metadata": {},
   "outputs": [
    {
     "data": {
      "text/plain": [
       "(array([0., 0., 0., 1., 0., 0., 0., 0., 0., 0.]), (10000, 10))"
      ]
     },
     "execution_count": 9,
     "metadata": {},
     "output_type": "execute_result"
    }
   ],
   "source": [
    "from keras.utils import np_utils\n",
    "\n",
    "num_classes = 10\n",
    "train_labels = np_utils.to_categorical(train_labels, num_classes)\n",
    "test_labels = np_utils.to_categorical(test_labels, num_classes)\n",
    "\n",
    "test_labels[0], test_labels.shape"
   ]
  },
  {
   "cell_type": "markdown",
   "metadata": {},
   "source": [
    "#### Build a basic CNN Model"
   ]
  },
  {
   "cell_type": "code",
   "execution_count": 21,
   "metadata": {},
   "outputs": [
    {
     "name": "stdout",
     "output_type": "stream",
     "text": [
      "Train on 40000 samples, validate on 10000 samples\n",
      "Epoch 1/10\n",
      "40000/40000 [==============================] - 28s 691us/step - loss: 1.6512 - acc: 0.4000 - val_loss: 1.3609 - val_acc: 0.5160\n",
      "Epoch 2/10\n",
      "40000/40000 [==============================] - 27s 675us/step - loss: 1.2834 - acc: 0.5423 - val_loss: 1.2736 - val_acc: 0.5559\n",
      "Epoch 3/10\n",
      "40000/40000 [==============================] - 27s 686us/step - loss: 1.1385 - acc: 0.5999 - val_loss: 1.1263 - val_acc: 0.5994\n",
      "Epoch 4/10\n",
      "40000/40000 [==============================] - 30s 750us/step - loss: 1.0305 - acc: 0.6391 - val_loss: 1.0480 - val_acc: 0.6344\n",
      "Epoch 5/10\n",
      "40000/40000 [==============================] - 30s 746us/step - loss: 0.9441 - acc: 0.6703 - val_loss: 0.9965 - val_acc: 0.6506\n",
      "Epoch 6/10\n",
      "40000/40000 [==============================] - 31s 764us/step - loss: 0.8735 - acc: 0.6943 - val_loss: 0.9537 - val_acc: 0.6687\n",
      "Epoch 7/10\n",
      "40000/40000 [==============================] - 30s 760us/step - loss: 0.8145 - acc: 0.7157 - val_loss: 0.9417 - val_acc: 0.6762\n",
      "Epoch 8/10\n",
      "40000/40000 [==============================] - 29s 713us/step - loss: 0.7568 - acc: 0.7347 - val_loss: 0.9071 - val_acc: 0.6858\n",
      "Epoch 9/10\n",
      "40000/40000 [==============================] - 29s 730us/step - loss: 0.7099 - acc: 0.7513 - val_loss: 0.9165 - val_acc: 0.6819\n",
      "Epoch 10/10\n",
      "40000/40000 [==============================] - 28s 703us/step - loss: 0.6667 - acc: 0.7658 - val_loss: 0.9135 - val_acc: 0.6900\n"
     ]
    },
    {
     "data": {
      "text/plain": [
       "<keras.callbacks.History at 0x202b5a0b4e0>"
      ]
     },
     "execution_count": 21,
     "metadata": {},
     "output_type": "execute_result"
    }
   ],
   "source": [
    "model = Sequential()\n",
    "\n",
    "model.add(Conv2D(filters=16, kernel_size=(2, 2), padding=\"same\", activation=\"relu\", input_shape=(train_features.shape[1:])))\n",
    "model.add(MaxPooling2D(pool_size=(2, 2), padding='same'))\n",
    "\n",
    "model.add(Conv2D(filters=32, kernel_size=(3, 3), padding=\"same\", activation=\"relu\"))\n",
    "model.add(MaxPooling2D(pool_size=(2, 2), padding='same'))\n",
    "\n",
    "model.add(Conv2D(filters=64, kernel_size=(4, 4), padding=\"same\", activation=\"relu\"))\n",
    "model.add(MaxPooling2D(pool_size=(2, 2), padding='same'))\n",
    "\n",
    "model.add(Flatten())\n",
    "\n",
    "model.add(Dense(256, activation=\"relu\"))\n",
    "model.add(Dense(10, activation=\"softmax\"))\n",
    "\n",
    "model.compile(optimizer='adam', loss='categorical_crossentropy', metrics=['accuracy'])\n",
    "model.fit(train_features, train_labels, validation_split=0.2, epochs=10, batch_size=128, verbose=1)"
   ]
  },
  {
   "cell_type": "markdown",
   "metadata": {},
   "source": [
    "#### Add Leaky Relu Activation Function to a layer"
   ]
  },
  {
   "cell_type": "code",
   "execution_count": 11,
   "metadata": {},
   "outputs": [],
   "source": [
    "from keras.layers.advanced_activations import LeakyReLU\n",
    "\n",
    "model = Sequential()\n",
    "\n",
    "model.add(Conv2D(filters=16, kernel_size=(2, 2), padding=\"valid\", input_shape=(train_features.shape[1:])))\n",
    "model.add(LeakyReLU(alpha=0.01))\n",
    "model.add(MaxPooling2D(pool_size=(2, 2), padding='valid'))"
   ]
  },
  {
   "cell_type": "markdown",
   "metadata": {},
   "source": [
    "#### Add dropout to a layer"
   ]
  },
  {
   "cell_type": "code",
   "execution_count": 12,
   "metadata": {},
   "outputs": [],
   "source": [
    "model = Sequential()\n",
    "\n",
    "model.add(Conv2D(filters=16, kernel_size=(2, 2), padding=\"valid\", input_shape=(train_features.shape[1:])))\n",
    "model.add(Dropout(0.4))\n",
    "model.add(LeakyReLU(alpha=0.01))\n",
    "model.add(MaxPooling2D(pool_size=(2, 2), padding='valid'))"
   ]
  },
  {
   "cell_type": "markdown",
   "metadata": {},
   "source": [
    "#### Advanced model implementation¶"
   ]
  },
  {
   "cell_type": "code",
   "execution_count": 13,
   "metadata": {},
   "outputs": [],
   "source": [
    "dropout = 0.3\n",
    "alpha = 0.02\n",
    "advanced_model = Sequential()\n",
    "\n",
    "advanced_model.add(Conv2D(filters=16, kernel_size=(2, 2), padding=\"same\", input_shape=(train_features.shape[1:])))\n",
    "\n",
    "advanced_model.add(MaxPooling2D(pool_size=(2, 2), padding='same'))\n",
    "advanced_model.add(Dropout(dropout))\n",
    "\n",
    "\n",
    "\n",
    "advanced_model.add(Conv2D(filters=32, kernel_size=(3, 3), padding=\"same\"))\n",
    "advanced_model.add(LeakyReLU(alpha=alpha))\n",
    "advanced_model.add(MaxPooling2D(pool_size=(2, 2), padding='same'))\n",
    "advanced_model.add(Dropout(dropout))\n",
    "\n",
    "\n",
    "\n",
    "advanced_model.add(Conv2D(filters=64, kernel_size=(4, 4), padding=\"same\"))\n",
    "advanced_model.add(LeakyReLU(alpha=alpha))\n",
    "advanced_model.add(MaxPooling2D(pool_size=(2, 2), padding='same'))\n",
    "advanced_model.add(Dropout(dropout))\n",
    "\n",
    "\n",
    "\n",
    "advanced_model.add(Flatten())\n",
    "\n",
    "advanced_model.add(Dense(1024))\n",
    "advanced_model.add(Dropout(dropout))\n",
    "advanced_model.add(LeakyReLU(alpha=alpha))\n",
    "\n",
    "advanced_model.add(Dense(512))\n",
    "advanced_model.add(Dropout(dropout))\n",
    "advanced_model.add(LeakyReLU(alpha=alpha))\n",
    "\n",
    "advanced_model.add(Dense(10, activation=\"softmax\"))\n",
    "\n",
    "\n",
    "advanced_model.compile(optimizer='adam', loss='categorical_crossentropy', metrics=['accuracy'])"
   ]
  },
  {
   "cell_type": "markdown",
   "metadata": {},
   "source": [
    "#### Training the model"
   ]
  },
  {
   "cell_type": "code",
   "execution_count": 14,
   "metadata": {},
   "outputs": [
    {
     "data": {
      "text/plain": [
       "<keras.callbacks.History at 0x202b768f358>"
      ]
     },
     "execution_count": 14,
     "metadata": {},
     "output_type": "execute_result"
    }
   ],
   "source": [
    "advanced_model.fit(train_features, train_labels, validation_split=0.2, epochs=50, batch_size=128, verbose=0)"
   ]
  },
  {
   "cell_type": "markdown",
   "metadata": {},
   "source": [
    "#### Saving the model"
   ]
  },
  {
   "cell_type": "code",
   "execution_count": 15,
   "metadata": {},
   "outputs": [],
   "source": [
    "advanced_model.save(\"model.hdf5\")"
   ]
  },
  {
   "cell_type": "markdown",
   "metadata": {},
   "source": [
    "#### Loading the model"
   ]
  },
  {
   "cell_type": "code",
   "execution_count": 16,
   "metadata": {},
   "outputs": [],
   "source": [
    "from keras.models import load_model\n",
    "loaded_model = load_model('model.hdf5')"
   ]
  },
  {
   "cell_type": "markdown",
   "metadata": {},
   "source": [
    "#### Define test function"
   ]
  },
  {
   "cell_type": "code",
   "execution_count": 17,
   "metadata": {},
   "outputs": [],
   "source": [
    "def test_model(model):\n",
    "    evaluation = model.evaluate(test_features, test_labels, verbose=0)\n",
    "    \n",
    "    print(\"-------------------------------------\")\n",
    "    print(\"Loss over the test dataset: %.2f\" % (evaluation[0]))\n",
    "    print(\"-------------------------------------\")\n",
    "    print(\"Accuracy: %.2f\" % (evaluation[1]))"
   ]
  },
  {
   "cell_type": "markdown",
   "metadata": {},
   "source": [
    "#### Test our Basic, Advanced model"
   ]
  },
  {
   "cell_type": "code",
   "execution_count": 22,
   "metadata": {},
   "outputs": [
    {
     "name": "stdout",
     "output_type": "stream",
     "text": [
      "-------------------------------------\n",
      "Loss over the test dataset: 0.91\n",
      "-------------------------------------\n",
      "Accuracy: 0.69\n"
     ]
    }
   ],
   "source": [
    "test_model(model)"
   ]
  },
  {
   "cell_type": "code",
   "execution_count": 20,
   "metadata": {},
   "outputs": [
    {
     "name": "stdout",
     "output_type": "stream",
     "text": [
      "-------------------------------------\n",
      "Loss over the test dataset: 0.82\n",
      "-------------------------------------\n",
      "Accuracy: 0.74\n"
     ]
    }
   ],
   "source": [
    "test_model(advanced_model)"
   ]
  },
  {
   "cell_type": "markdown",
   "metadata": {},
   "source": [
    "## 3. AutoEncoders"
   ]
  },
  {
   "cell_type": "code",
   "execution_count": 1,
   "metadata": {},
   "outputs": [
    {
     "name": "stderr",
     "output_type": "stream",
     "text": [
      "Using TensorFlow backend.\n"
     ]
    }
   ],
   "source": [
    "import numpy as np\n",
    "from keras.layers import Input, Dense, Conv2D, MaxPooling2D, UpSampling2D\n",
    "from keras.models import Model\n",
    "from keras.datasets import mnist\n",
    "import matplotlib.pyplot as plt"
   ]
  },
  {
   "cell_type": "markdown",
   "metadata": {},
   "source": [
    "#### Load dataset and reshape it to one dimension\n",
    "We dont need the train and test labels"
   ]
  },
  {
   "cell_type": "code",
   "execution_count": 2,
   "metadata": {},
   "outputs": [
    {
     "data": {
      "image/png": "[encoded data removed]",
      "text/plain": [
       "<Figure size 72x72 with 1 Axes>"
      ]
     },
     "metadata": {
      "needs_background": "light"
     },
     "output_type": "display_data"
    },
    {
     "data": {
      "image/png": "[encoded data removed]",
      "text/plain": [
       "<Figure size 72x72 with 1 Axes>"
      ]
     },
     "metadata": {
      "needs_background": "light"
     },
     "output_type": "display_data"
    },
    {
     "data": {
      "image/png": "[encoded data removed]",
      "text/plain": [
       "<Figure size 72x72 with 1 Axes>"
      ]
     },
     "metadata": {
      "needs_background": "light"
     },
     "output_type": "display_data"
    },
    {
     "data": {
      "image/png": "[encoded data removed]",
      "text/plain": [
       "<Figure size 72x72 with 1 Axes>"
      ]
     },
     "metadata": {
      "needs_background": "light"
     },
     "output_type": "display_data"
    },
    {
     "data": {
      "image/png": "[encoded data removed]",
      "text/plain": [
       "<Figure size 72x72 with 1 Axes>"
      ]
     },
     "metadata": {
      "needs_background": "light"
     },
     "output_type": "display_data"
    }
   ],
   "source": [
    "(x_train, _), (x_test, _) = mnist.load_data()\n",
    "\n",
    "# display some images from the dataset\n",
    "for i in range(5):\n",
    "    plt.figure(figsize=(1,1))\n",
    "    plt.imshow(x_train[i])\n",
    "    plt.show()\n",
    "    \n",
    "#reshape into one dimension, model with dense layers\n",
    "x_train = x_train.reshape(-1, 784)\n",
    "x_test = x_test.reshape(-1, 784)"
   ]
  },
  {
   "cell_type": "markdown",
   "metadata": {},
   "source": [
    "#### Build a simple Autoencoder model, using the Keras Functional API\n",
    "Previously we used sequential API"
   ]
  },
  {
   "cell_type": "code",
   "execution_count": 3,
   "metadata": {},
   "outputs": [],
   "source": [
    "input_layer = Input(shape=(784,))\n",
    "\n",
    "encoding_layer = Dense(32, activation='relu')(input_layer)\n",
    "decoding_layer = Dense(784, activation='sigmoid')(encoding_layer)\n",
    "\n",
    "autoencoder = Model(input_layer, decoding_layer)\n",
    "\n",
    "autoencoder.compile(optimizer='adam', loss='binary_crossentropy')"
   ]
  },
  {
   "cell_type": "markdown",
   "metadata": {},
   "source": [
    "#### Build an improved Autoencoder model, using the Keras Functional API"
   ]
  },
  {
   "cell_type": "code",
   "execution_count": 4,
   "metadata": {},
   "outputs": [],
   "source": [
    "input_layer = Input(shape=(784,))\n",
    "\n",
    "encoding_layer1 = Dense(128, activation='relu')(input_layer)\n",
    "encoding_layer2 = Dense(64, activation='relu')(encoding_layer1)\n",
    "\n",
    "encoding_layer3 = Dense(32, activation='relu')(encoding_layer2)\n",
    "\n",
    "decoding_layer1 = Dense(64, activation='relu')(encoding_layer2)\n",
    "decoding_layer2 = Dense(128, activation='relu')(decoding_layer1)\n",
    "\n",
    "output_decoding_layer = Dense(784, activation='sigmoid')(decoding_layer2)\n",
    "\n",
    "autoencoder = Model(input_layer, output_decoding_layer)\n",
    "autoencoder.compile(optimizer='adam', loss='binary_crossentropy')"
   ]
  },
  {
   "cell_type": "markdown",
   "metadata": {},
   "source": [
    "#### Build a deep convolutional Autoencoder model, using the Keras Functional API"
   ]
  },
  {
   "cell_type": "code",
   "execution_count": 5,
   "metadata": {},
   "outputs": [],
   "source": [
    "input_layer = Input(shape=(28, 28, 1))\n",
    "\n",
    "#encoder\n",
    "encoding_layer1 = Conv2D(32, (3, 3), activation='relu', padding='same')(input_layer)\n",
    "max_pool_1 = MaxPooling2D((2, 2), padding='same')(encoding_layer1)\n",
    "encoding_layer2 = Conv2D(64, (3, 3), activation='relu', padding='same')(max_pool_1)\n",
    "max_pool_2 = MaxPooling2D((2, 2), padding='same')(encoding_layer2)\n",
    "\n",
    "#decoder\n",
    "decoding_layer1 = Conv2D(64, (3, 3), activation='relu', padding='same')(max_pool_2)\n",
    "upsampling_layer1 = UpSampling2D((2, 2))(decoding_layer1)\n",
    "decoding_layer2 = Conv2D(32, (3, 3), activation='relu', padding='same')(upsampling_layer1)\n",
    "upsampling_layer2 = UpSampling2D((2, 2))(decoding_layer2)\n",
    "\n",
    "output_decoding_layer = Conv2D(1, (3, 3), activation='sigmoid', padding='same')(upsampling_layer2)\n",
    "\n",
    "autoencoder = Model(input_layer, output_decoding_layer)\n",
    "autoencoder.compile(optimizer='adam', loss='binary_crossentropy')"
   ]
  },
  {
   "cell_type": "markdown",
   "metadata": {},
   "source": [
    "#### Load data, reshape and rescale it"
   ]
  },
  {
   "cell_type": "code",
   "execution_count": 6,
   "metadata": {},
   "outputs": [],
   "source": [
    "(x_train, _), (x_test, _) = mnist.load_data()\n",
    "\n",
    "x_train = x_train.astype('float32') / 255.\n",
    "x_test = x_test.astype('float32') / 255.     \n",
    "x_train = np.reshape(x_train, (len(x_train), 28, 28, 1))\n",
    "x_test = np.reshape(x_test, (len(x_test), 28, 28, 1))"
   ]
  },
  {
   "cell_type": "markdown",
   "metadata": {},
   "source": [
    "#### Add noise to images¶"
   ]
  },
  {
   "cell_type": "code",
   "execution_count": 7,
   "metadata": {},
   "outputs": [],
   "source": [
    "noise_factor = 0.4\n",
    "x_train_noise  = x_train + noise_factor * np.random.normal(loc=0.0, scale=1.0, size=x_train.shape) \n",
    "x_test_noise = x_test + noise_factor * np.random.normal(loc=0.0, scale=1.0, size=x_test.shape) \n",
    "\n",
    "x_train_noise = np.clip(x_train_noise, 0., 1.)\n",
    "x_test_noise = np.clip(x_test_noise, 0., 1.)"
   ]
  },
  {
   "cell_type": "markdown",
   "metadata": {},
   "source": [
    "#### Display images with noise\n"
   ]
  },
  {
   "cell_type": "code",
   "execution_count": 8,
   "metadata": {},
   "outputs": [
    {
     "data": {
      "image/png": "[encoded data removed]",
      "text/plain": [
       "<Figure size 72x72 with 1 Axes>"
      ]
     },
     "metadata": {
      "needs_background": "light"
     },
     "output_type": "display_data"
    },
    {
     "data": {
      "image/png": "[encoded data removed]",
      "text/plain": [
       "<Figure size 72x72 with 1 Axes>"
      ]
     },
     "metadata": {
      "needs_background": "light"
     },
     "output_type": "display_data"
    },
    {
     "data": {
      "image/png": "[encoded data removed]",
      "text/plain": [
       "<Figure size 72x72 with 1 Axes>"
      ]
     },
     "metadata": {
      "needs_background": "light"
     },
     "output_type": "display_data"
    },
    {
     "data": {
      "image/png": "[encoded data removed]",
      "text/plain": [
       "<Figure size 72x72 with 1 Axes>"
      ]
     },
     "metadata": {
      "needs_background": "light"
     },
     "output_type": "display_data"
    }
   ],
   "source": [
    "for i in range(1,5):\n",
    "    plt.figure(figsize=(1,1))\n",
    "    plt.imshow(x_train_noise[i].reshape(28,28))\n",
    "    plt.show();"
   ]
  },
  {
   "cell_type": "markdown",
   "metadata": {},
   "source": [
    "#### Train the model"
   ]
  },
  {
   "cell_type": "code",
   "execution_count": 9,
   "metadata": {},
   "outputs": [
    {
     "name": "stdout",
     "output_type": "stream",
     "text": [
      "Train on 51000 samples, validate on 9000 samples\n",
      "Epoch 1/10\n",
      "51000/51000 [==============================] - 134s 3ms/step - loss: 0.1551 - val_loss: 0.1039\n",
      "Epoch 2/10\n",
      "51000/51000 [==============================] - 144s 3ms/step - loss: 0.0984 - val_loss: 0.0959\n",
      "Epoch 3/10\n",
      "51000/51000 [==============================] - 144s 3ms/step - loss: 0.0940 - val_loss: 0.0936\n",
      "Epoch 4/10\n",
      "51000/51000 [==============================] - 139s 3ms/step - loss: 0.0918 - val_loss: 0.0914\n",
      "Epoch 5/10\n",
      "51000/51000 [==============================] - 138s 3ms/step - loss: 0.0903 - val_loss: 0.0902\n",
      "Epoch 6/10\n",
      "51000/51000 [==============================] - 139s 3ms/step - loss: 0.0892 - val_loss: 0.0892\n",
      "Epoch 7/10\n",
      "51000/51000 [==============================] - 148s 3ms/step - loss: 0.0883 - val_loss: 0.0887\n",
      "Epoch 8/10\n",
      "51000/51000 [==============================] - 134s 3ms/step - loss: 0.0875 - val_loss: 0.0885\n",
      "Epoch 9/10\n",
      "51000/51000 [==============================] - 139s 3ms/step - loss: 0.0870 - val_loss: 0.0872\n",
      "Epoch 10/10\n",
      "51000/51000 [==============================] - 141s 3ms/step - loss: 0.0865 - val_loss: 0.0869\n"
     ]
    },
    {
     "data": {
      "text/plain": [
       "<keras.callbacks.History at 0x21534744198>"
      ]
     },
     "execution_count": 9,
     "metadata": {},
     "output_type": "execute_result"
    }
   ],
   "source": [
    "autoencoder.fit(x_train_noise, x_train, epochs=10, batch_size=128, shuffle=True, validation_split = 0.15)"
   ]
  },
  {
   "cell_type": "markdown",
   "metadata": {},
   "source": [
    "#### Test the convolutional Autoencoder on the test images with noise"
   ]
  },
  {
   "cell_type": "code",
   "execution_count": 10,
   "metadata": {},
   "outputs": [],
   "source": [
    "output_images = autoencoder.predict(x_test_noise)"
   ]
  },
  {
   "cell_type": "markdown",
   "metadata": {},
   "source": [
    "#### Display noisy images before passing them through the Autoencoder and output images"
   ]
  },
  {
   "cell_type": "code",
   "execution_count": 13,
   "metadata": {},
   "outputs": [
    {
     "data": {
      "image/png": "[encoded data removed]",
      "text/plain": [
       "<Figure size 72x72 with 1 Axes>"
      ]
     },
     "metadata": {
      "needs_background": "light"
     },
     "output_type": "display_data"
    },
    {
     "data": {
      "image/png": "[encoded data removed]",
      "text/plain": [
       "<Figure size 72x72 with 1 Axes>"
      ]
     },
     "metadata": {
      "needs_background": "light"
     },
     "output_type": "display_data"
    },
    {
     "data": {
      "image/png": "[encoded data removed]",
      "text/plain": [
       "<Figure size 72x72 with 1 Axes>"
      ]
     },
     "metadata": {
      "needs_background": "light"
     },
     "output_type": "display_data"
    },
    {
     "data": {
      "image/png": "[encoded data removed]",
      "text/plain": [
       "<Figure size 72x72 with 1 Axes>"
      ]
     },
     "metadata": {
      "needs_background": "light"
     },
     "output_type": "display_data"
    },
    {
     "data": {
      "image/png": "[encoded data removed]",
      "text/plain": [
       "<Figure size 72x72 with 1 Axes>"
      ]
     },
     "metadata": {
      "needs_background": "light"
     },
     "output_type": "display_data"
    },
    {
     "data": {
      "image/png": "[encoded data removed]",
      "text/plain": [
       "<Figure size 72x72 with 1 Axes>"
      ]
     },
     "metadata": {
      "needs_background": "light"
     },
     "output_type": "display_data"
    },
    {
     "data": {
      "image/png": "[encoded data removed]",
      "text/plain": [
       "<Figure size 72x72 with 1 Axes>"
      ]
     },
     "metadata": {
      "needs_background": "light"
     },
     "output_type": "display_data"
    },
    {
     "data": {
      "image/png": "[encoded data removed]",
      "text/plain": [
       "<Figure size 72x72 with 1 Axes>"
      ]
     },
     "metadata": {
      "needs_background": "light"
     },
     "output_type": "display_data"
    },
    {
     "data": {
      "image/png": "[encoded data removed]",
      "text/plain": [
       "<Figure size 72x72 with 1 Axes>"
      ]
     },
     "metadata": {
      "needs_background": "light"
     },
     "output_type": "display_data"
    },
    {
     "data": {
      "image/png": "[encoded data removed]",
      "text/plain": [
       "<Figure size 72x72 with 1 Axes>"
      ]
     },
     "metadata": {
      "needs_background": "light"
     },
     "output_type": "display_data"
    }
   ],
   "source": [
    "for i in range(1,6):\n",
    "    plt.figure(figsize=(1,1))\n",
    "    plt.imshow(x_test_noise[i].reshape(28,28))\n",
    "    plt.show()\n",
    "    plt.figure(figsize=(1,1))\n",
    "    plt.imshow(output_images[i].reshape(28,28))\n",
    "    plt.show()"
   ]
  },
  {
   "cell_type": "markdown",
   "metadata": {},
   "source": [
    "## RNN for Machine Translation"
   ]
  },
  {
   "cell_type": "code",
   "execution_count": 49,
   "metadata": {},
   "outputs": [],
   "source": [
    "import os\n",
    "import numpy as np\n",
    "from keras.preprocessing.text import Tokenizer\n",
    "from keras.preprocessing.sequence import pad_sequences\n",
    "from keras.layers import GRU, Input, Dense, TimeDistributed, Embedding, Bidirectional, RepeatVector\n",
    "from keras.models import Model, Sequential\n",
    "from keras.layers import Activation, LSTM\n",
    "from keras.optimizers import Adam\n",
    "from keras.losses import sparse_categorical_crossentropy"
   ]
  },
  {
   "cell_type": "markdown",
   "metadata": {},
   "source": [
    "#### Load data"
   ]
  },
  {
   "cell_type": "code",
   "execution_count": 50,
   "metadata": {},
   "outputs": [],
   "source": [
    "def load_file(path):\n",
    "    input_file = os.path.join(path)\n",
    "    with open(input_file, \"r\", encoding = \"utf8\") as f:\n",
    "        data = f.read().split('\\n')\n",
    "\n",
    "    return data"
   ]
  },
  {
   "cell_type": "code",
   "execution_count": 52,
   "metadata": {},
   "outputs": [
    {
     "name": "stdout",
     "output_type": "stream",
     "text": [
      "<class 'list'>\n",
      "600 600\n",
      "Dataset Loaded\n"
     ]
    }
   ],
   "source": [
    "english_sentences = load_file('en_data')\n",
    "french_sentences = load_file('fr_data')\n",
    "\n",
    "english_sentences=english_sentences[:600]\n",
    "french_sentences=french_sentences[:600]\n",
    "\n",
    "\n",
    "print(type(english_sentences))\n",
    "print(len(english_sentences), len(french_sentences))\n",
    "print('Dataset Loaded')"
   ]
  },
  {
   "cell_type": "code",
   "execution_count": 53,
   "metadata": {},
   "outputs": [
    {
     "name": "stdout",
     "output_type": "stream",
     "text": [
      "paris is sometimes warm during june , but it is usually hot in july .\n",
      "paris est parfois chaud en juin , mais il est généralement chaud en juillet .\n"
     ]
    }
   ],
   "source": [
    "print(english_sentences[0])\n",
    "print(french_sentences[0])"
   ]
  },
  {
   "cell_type": "markdown",
   "metadata": {},
   "source": [
    "#### Tokenize"
   ]
  },
  {
   "cell_type": "code",
   "execution_count": 54,
   "metadata": {},
   "outputs": [
    {
     "name": "stdout",
     "output_type": "stream",
     "text": [
      "[15, 1, 8, 32, 4, 66, 7, 3, 1, 9, 53, 2, 31]\n",
      "[22, 1, 8, 127, 42, 13, 65, 6, 3, 1, 12, 59, 2, 38]\n"
     ]
    }
   ],
   "source": [
    "def tokenize(input):\n",
    "    tokenizer = Tokenizer()\n",
    "    tokenizer.fit_on_texts(input)\n",
    "    input_tokenized = tokenizer.texts_to_sequences(input)\n",
    "    \n",
    "    return input_tokenized, tokenizer\n",
    "\n",
    "french_data_tokenized, french_tokenizer = tokenize(french_sentences)\n",
    "english_data_tokenized, english_tokenizer = tokenize(english_sentences)\n",
    "\n",
    "print(english_data_tokenized[1])\n",
    "print(french_data_tokenized[1])"
   ]
  },
  {
   "cell_type": "markdown",
   "metadata": {},
   "source": [
    "#### Add Padding"
   ]
  },
  {
   "cell_type": "code",
   "execution_count": 55,
   "metadata": {},
   "outputs": [
    {
     "name": "stdout",
     "output_type": "stream",
     "text": [
      "[15  1  8 32  4 66  7  3  1  9 53  2 31  0  0]\n",
      "[[ 22]\n",
      " [  1]\n",
      " [  8]\n",
      " [127]\n",
      " [ 42]\n",
      " [ 13]\n",
      " [ 65]\n",
      " [  6]\n",
      " [  3]\n",
      " [  1]\n",
      " [ 12]\n",
      " [ 59]\n",
      " [  2]\n",
      " [ 38]\n",
      " [  0]\n",
      " [  0]\n",
      " [  0]\n",
      " [  0]\n",
      " [  0]]\n"
     ]
    }
   ],
   "source": [
    "def pad(input, length=None):\n",
    "   \n",
    "    if length == None:\n",
    "        length = max([len(seq) for seq in input])\n",
    "        \n",
    "    return pad_sequences(input, maxlen=length, padding='post')\n",
    "\n",
    "\n",
    "french_data_padded = pad(french_data_tokenized)\n",
    "french_data_padded = french_data_padded.reshape(*french_data_padded.shape, 1)\n",
    "english_data_padded = pad(english_data_tokenized)\n",
    "\n",
    "print(english_data_padded[1])\n",
    "print(french_data_padded[1])"
   ]
  },
  {
   "cell_type": "markdown",
   "metadata": {},
   "source": [
    "#### Build a simple RNN model"
   ]
  },
  {
   "cell_type": "code",
   "execution_count": 56,
   "metadata": {},
   "outputs": [],
   "source": [
    "def simple_model(input_shape, output_len, num_uniq_fr_words):\n",
    "\n",
    "    model = Sequential()\n",
    "    model.add(GRU(units=256, input_shape=input_shape[1:], return_sequences=True))\n",
    "    model.add(TimeDistributed(Dense(num_uniq_fr_words)))\n",
    "    model.add(Activation('softmax'))\n",
    "    \n",
    "    learning_rate = 0.002\n",
    "        \n",
    "    model.compile(loss=sparse_categorical_crossentropy,\n",
    "                  optimizer=Adam(learning_rate),\n",
    "                  metrics=['accuracy'])\n",
    "    \n",
    "    return model"
   ]
  },
  {
   "cell_type": "markdown",
   "metadata": {},
   "source": [
    "#### Advanced RNN model"
   ]
  },
  {
   "cell_type": "code",
   "execution_count": 57,
   "metadata": {},
   "outputs": [],
   "source": [
    "def advanced_model(input_shape, output_len, num_uniq_en_words, num_uniq_fr_words):\n",
    "    \n",
    "    model = Sequential()\n",
    "    model.add(Embedding(num_uniq_en_words, 512, input_length=input_shape[1]))\n",
    "    model.add(Bidirectional(LSTM(512, return_sequences=False)))\n",
    "    model.add(RepeatVector(output_len))\n",
    "    model.add(Bidirectional(LSTM(512, return_sequences=True)))\n",
    "    model.add(TimeDistributed(Dense(num_uniq_fr_words)))\n",
    "    model.add(Activation('softmax'))\n",
    "    \n",
    "    learning_rate=0.002\n",
    "    \n",
    "    model.compile(loss=sparse_categorical_crossentropy,\n",
    "                  optimizer=Adam(learning_rate),\n",
    "                  metrics=['accuracy'])\n",
    "    return model"
   ]
  },
  {
   "cell_type": "markdown",
   "metadata": {},
   "source": [
    "#### Train the model"
   ]
  },
  {
   "cell_type": "code",
   "execution_count": 63,
   "metadata": {},
   "outputs": [
    {
     "data": {
      "text/plain": [
       "'model = advanced_model(english_data_padded.shape, french_data_padded.shape[1], \\n                       len(english_tokenizer.word_index), len(french_tokenizer.word_index))\\n\\nmodel.fit(english_data_padded, french_data_padded, batch_size=16, epochs=2, validation_split=0.1)'"
      ]
     },
     "execution_count": 63,
     "metadata": {},
     "output_type": "execute_result"
    }
   ],
   "source": [
    "'''model = advanced_model(english_data_padded.shape, french_data_padded.shape[1], \n",
    "                       len(english_tokenizer.word_index), len(french_tokenizer.word_index))\n",
    "\n",
    "model.fit(english_data_padded, french_data_padded, batch_size=16, epochs=2, validation_split=0.1)'''"
   ]
  },
  {
   "cell_type": "code",
   "execution_count": null,
   "metadata": {},
   "outputs": [],
   "source": [
    "fr_id_to_word = {value: key for key, value in french_tokenizer.word_index.items()}\n",
    "fr_id_to_word[0] = '|empty space|'\n",
    "\n",
    "sentence = 'china is usually hot during february and it is usually wonderful in winter'\n",
    "sentence = [english_tokenizer.word_index[word] for word in sentence.split()]\n",
    "sentence = pad_sequences([sentence], maxlen=english_data_padded.shape[-1], padding='post')\n",
    "\n",
    "sentences = np.array([sentence[0]])\n",
    "predictions = model.predict(sentence)\n",
    "\n",
    "\n",
    "print(' '.join([fr_id_to_word[np.argmax(x)] for x in predictions[0]]))"
   ]
  },
  {
   "cell_type": "markdown",
   "metadata": {},
   "source": [
    "## Generative Adversarial Network"
   ]
  },
  {
   "cell_type": "code",
   "execution_count": 64,
   "metadata": {},
   "outputs": [],
   "source": [
    "from keras.models import Sequential\n",
    "from keras.layers import Dense, Activation\n",
    "from keras.layers.normalization import BatchNormalization"
   ]
  },
  {
   "cell_type": "markdown",
   "metadata": {},
   "source": [
    "### Batch Normalization"
   ]
  },
  {
   "cell_type": "code",
   "execution_count": 65,
   "metadata": {},
   "outputs": [],
   "source": [
    "model = Sequential()\n",
    "\n",
    "model.add(Dense(64, input_dim=14, kernel_initializer='uniform'))\n",
    "model.add(BatchNormalization())\n",
    "model.add(Activation('tanh'))"
   ]
  },
  {
   "cell_type": "markdown",
   "metadata": {},
   "source": [
    "### More imports"
   ]
  },
  {
   "cell_type": "code",
   "execution_count": 67,
   "metadata": {},
   "outputs": [],
   "source": [
    "from keras.datasets import mnist\n",
    "from keras.models import Model\n",
    "from keras.layers import *\n",
    "from keras.optimizers import Adam\n",
    "from keras.layers.advanced_activations import LeakyReLU\n",
    "import numpy as np\n",
    "import matplotlib.pyplot as plt\n",
    "%matplotlib inline"
   ]
  },
  {
   "cell_type": "markdown",
   "metadata": {},
   "source": [
    "### Load data"
   ]
  },
  {
   "cell_type": "code",
   "execution_count": 98,
   "metadata": {},
   "outputs": [],
   "source": [
    "(x_train, y_train), (x_test, y_test) = mnist.load_data()"
   ]
  },
  {
   "cell_type": "code",
   "execution_count": 99,
   "metadata": {},
   "outputs": [],
   "source": [
    "x_train=x_train[:5000]\n",
    "y_train= y_train[:5000]\n",
    "x_test=x_train[:2000]\n",
    "y_test= y_train[:2000]"
   ]
  },
  {
   "cell_type": "markdown",
   "metadata": {},
   "source": [
    "### Reshape data"
   ]
  },
  {
   "cell_type": "code",
   "execution_count": 100,
   "metadata": {},
   "outputs": [],
   "source": [
    "x_train = x_train.reshape(x_train.shape[0], 28, 28, 1)\n",
    "x_test = x_test.reshape(x_test.shape[0], 28, 28, 1)\n",
    "\n",
    "x_train = x_train.astype('float32')\n",
    "x_train = (x_train - 127.5) / 127.5"
   ]
  },
  {
   "cell_type": "markdown",
   "metadata": {},
   "source": [
    "### Generator model"
   ]
  },
  {
   "cell_type": "code",
   "execution_count": 101,
   "metadata": {},
   "outputs": [],
   "source": [
    "generator = Sequential()\n",
    "generator.add(Dense(128*7*7, input_dim=100, ))\n",
    "generator.add(LeakyReLU(0.2))\n",
    "generator.add(BatchNormalization())\n",
    "generator.add(Reshape((7,7,128)))\n",
    "generator.add(UpSampling2D())\n",
    "generator.add(Convolution2D(64, kernel_size = 5, padding='same'))\n",
    "generator.add(BatchNormalization())\n",
    "generator.add(LeakyReLU(0.2))\n",
    "generator.add( UpSampling2D())\n",
    "generator.add( Convolution2D(1, kernel_size = 5, padding='same', activation='tanh'))"
   ]
  },
  {
   "cell_type": "code",
   "execution_count": 102,
   "metadata": {},
   "outputs": [
    {
     "name": "stdout",
     "output_type": "stream",
     "text": [
      "_________________________________________________________________\n",
      "Layer (type)                 Output Shape              Param #   \n",
      "=================================================================\n",
      "dense_23 (Dense)             (None, 6272)              633472    \n",
      "_________________________________________________________________\n",
      "leaky_re_lu_9 (LeakyReLU)    (None, 6272)              0         \n",
      "_________________________________________________________________\n",
      "batch_normalization_6 (Batch (None, 6272)              25088     \n",
      "_________________________________________________________________\n",
      "reshape_3 (Reshape)          (None, 7, 7, 128)         0         \n",
      "_________________________________________________________________\n",
      "up_sampling2d_7 (UpSampling2 (None, 14, 14, 128)       0         \n",
      "_________________________________________________________________\n",
      "conv2d_14 (Conv2D)           (None, 14, 14, 64)        204864    \n",
      "_________________________________________________________________\n",
      "batch_normalization_7 (Batch (None, 14, 14, 64)        256       \n",
      "_________________________________________________________________\n",
      "leaky_re_lu_10 (LeakyReLU)   (None, 14, 14, 64)        0         \n",
      "_________________________________________________________________\n",
      "up_sampling2d_8 (UpSampling2 (None, 28, 28, 64)        0         \n",
      "_________________________________________________________________\n",
      "conv2d_15 (Conv2D)           (None, 28, 28, 1)         1601      \n",
      "=================================================================\n",
      "Total params: 865,281\n",
      "Trainable params: 852,609\n",
      "Non-trainable params: 12,672\n",
      "_________________________________________________________________\n"
     ]
    }
   ],
   "source": [
    "generator.summary()"
   ]
  },
  {
   "cell_type": "markdown",
   "metadata": {},
   "source": [
    "### Discriminator Model"
   ]
  },
  {
   "cell_type": "code",
   "execution_count": 103,
   "metadata": {},
   "outputs": [],
   "source": [
    "discriminator = Sequential()\n",
    "discriminator.add(Convolution2D(64, kernel_size = 5,  strides=(2,2), input_shape=(28,28,1), padding='same'))\n",
    "discriminator.add(LeakyReLU(0.2))\n",
    "discriminator.add(Dropout(0.3))\n",
    "discriminator.add(Convolution2D(128, kernel_size = 5, strides=(2,2), padding = 'same'))\n",
    "discriminator.add(LeakyReLU(0.2))\n",
    "discriminator.add(Dropout(0.3))\n",
    "discriminator.add(Flatten())\n",
    "discriminator.add(Dense(1, activation='sigmoid'))"
   ]
  },
  {
   "cell_type": "code",
   "execution_count": 104,
   "metadata": {},
   "outputs": [
    {
     "name": "stdout",
     "output_type": "stream",
     "text": [
      "_________________________________________________________________\n",
      "Layer (type)                 Output Shape              Param #   \n",
      "=================================================================\n",
      "conv2d_16 (Conv2D)           (None, 14, 14, 64)        1664      \n",
      "_________________________________________________________________\n",
      "leaky_re_lu_11 (LeakyReLU)   (None, 14, 14, 64)        0         \n",
      "_________________________________________________________________\n",
      "dropout_5 (Dropout)          (None, 14, 14, 64)        0         \n",
      "_________________________________________________________________\n",
      "conv2d_17 (Conv2D)           (None, 7, 7, 128)         204928    \n",
      "_________________________________________________________________\n",
      "leaky_re_lu_12 (LeakyReLU)   (None, 7, 7, 128)         0         \n",
      "_________________________________________________________________\n",
      "dropout_6 (Dropout)          (None, 7, 7, 128)         0         \n",
      "_________________________________________________________________\n",
      "flatten_3 (Flatten)          (None, 6272)              0         \n",
      "_________________________________________________________________\n",
      "dense_24 (Dense)             (None, 1)                 6273      \n",
      "=================================================================\n",
      "Total params: 212,865\n",
      "Trainable params: 212,865\n",
      "Non-trainable params: 0\n",
      "_________________________________________________________________\n"
     ]
    }
   ],
   "source": [
    "discriminator.summary()"
   ]
  },
  {
   "cell_type": "markdown",
   "metadata": {},
   "source": [
    "### Compile Models"
   ]
  },
  {
   "cell_type": "code",
   "execution_count": 105,
   "metadata": {},
   "outputs": [],
   "source": [
    "generator.compile(loss='binary_crossentropy', optimizer=Adam())\n",
    "discriminator.compile(loss='binary_crossentropy', optimizer=Adam())"
   ]
  },
  {
   "cell_type": "markdown",
   "metadata": {},
   "source": [
    "### Build GAN model"
   ]
  },
  {
   "cell_type": "code",
   "execution_count": 106,
   "metadata": {},
   "outputs": [],
   "source": [
    "discriminator.trainable = False\n",
    "\n",
    "input = Input(shape=(100,))\n",
    "gen = generator(input)\n",
    "output = discriminator(gen)\n",
    "gan = Model(inputs=input, outputs=output)\n",
    "gan.compile(loss='binary_crossentropy', optimizer=Adam())"
   ]
  },
  {
   "cell_type": "code",
   "execution_count": 107,
   "metadata": {},
   "outputs": [
    {
     "name": "stdout",
     "output_type": "stream",
     "text": [
      "_________________________________________________________________\n",
      "Layer (type)                 Output Shape              Param #   \n",
      "=================================================================\n",
      "input_6 (InputLayer)         (None, 100)               0         \n",
      "_________________________________________________________________\n",
      "sequential_15 (Sequential)   (None, 28, 28, 1)         865281    \n",
      "_________________________________________________________________\n",
      "sequential_16 (Sequential)   (None, 1)                 212865    \n",
      "=================================================================\n",
      "Total params: 1,078,146\n",
      "Trainable params: 852,609\n",
      "Non-trainable params: 225,537\n",
      "_________________________________________________________________\n"
     ]
    }
   ],
   "source": [
    "gan.summary()"
   ]
  },
  {
   "cell_type": "markdown",
   "metadata": {},
   "source": [
    "### Train the Model"
   ]
  },
  {
   "cell_type": "code",
   "execution_count": 108,
   "metadata": {},
   "outputs": [],
   "source": [
    "def train(epoch=10, batch_size=128):\n",
    "    batch_count = x_train.shape[0] // batch_size\n",
    "    \n",
    "    for i in range(epoch):\n",
    "        for j in range(batch_count):\n",
    " \n",
    "            noise_input = np.random.rand(batch_size, 100)\n",
    "            image_batch = x_train[np.random.randint(0, x_train.shape[0], size=batch_size)]\n",
    "            predictions = generator.predict(noise_input, batch_size=batch_size)\n",
    "            \n",
    "            X = np.concatenate([predictions, image_batch])\n",
    "            y_discriminator = [0]*batch_size + [1]*batch_size\n",
    "            \n",
    "            discriminator.trainable = True\n",
    "            discriminator.train_on_batch(X, y_discriminator)\n",
    "            \n",
    "            noise_input = np.random.rand(batch_size, 100)\n",
    "            y_generator = [1]*batch_size\n",
    "            \n",
    "            discriminator.trainable = False\n",
    "            gan.train_on_batch(noise_input, y_generator)"
   ]
  },
  {
   "cell_type": "code",
   "execution_count": 109,
   "metadata": {},
   "outputs": [],
   "source": [
    "train(5, 128)"
   ]
  },
  {
   "cell_type": "markdown",
   "metadata": {},
   "source": [
    "### Test the model"
   ]
  },
  {
   "cell_type": "code",
   "execution_count": 110,
   "metadata": {},
   "outputs": [],
   "source": [
    "def plot_output():\n",
    "    try_input = np.random.rand(100, 100)\n",
    "    preds = generator.predict(try_input)\n",
    "\n",
    "    plt.figure(figsize=(10,10))\n",
    "    for i in range(preds.shape[0]):\n",
    "        plt.subplot(10, 10, i+1)\n",
    "        plt.imshow(preds[i, :, :, 0], cmap='gray')\n",
    "        plt.axis('off')"
   ]
  },
  {
   "cell_type": "code",
   "execution_count": 111,
   "metadata": {},
   "outputs": [
    {
     "data": {
      "image/png": "[encoded data removed]",
      "text/plain": [
       "<Figure size 720x720 with 100 Axes>"
      ]
     },
     "metadata": {
      "needs_background": "light"
     },
     "output_type": "display_data"
    }
   ],
   "source": [
    "plot_output()"
   ]
  }
 ],
 "metadata": {
  "kernelspec": {
   "display_name": "Python 3",
   "language": "python",
   "name": "python3"
  },
  "language_info": {
   "codemirror_mode": {
    "name": "ipython",
    "version": 3
   },
   "file_extension": ".py",
   "mimetype": "text/x-python",
   "name": "python",
   "nbconvert_exporter": "python",
   "pygments_lexer": "ipython3",
   "version": "3.6.7"
  }
 },
 "nbformat": 4,
 "nbformat_minor": 2
}
